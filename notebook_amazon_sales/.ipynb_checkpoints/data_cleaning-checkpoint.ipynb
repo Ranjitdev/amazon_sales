{
 "cells": [
  {
   "cell_type": "markdown",
   "id": "b773bba2",
   "metadata": {},
   "source": [
    "### Problem Statement:\n",
    "    Sales management has gained importance to meet increasing competition and the need\n",
    "    for improved methods of distribution to reduce cost and to increase profits. Sales\n",
    "    management today is the most important function in a commercial and business\n",
    "    enterprise.\n",
    "    Do ETL : Extract-Transform-Load on this amazon data set\n",
    "    Sales-trend -> month wise , year wise , yearly_month wise"
   ]
  },
  {
   "cell_type": "code",
   "execution_count": 1,
   "id": "edae838a",
   "metadata": {},
   "outputs": [],
   "source": [
    "import pandas as pd\n",
    "import numpy as np\n",
    "import matplotlib.pyplot as plt\n",
    "import seaborn as sns\n",
    "%matplotlib inline\n",
    "import warnings\n",
    "warnings.simplefilter('ignore')\n",
    "pd.set_option('display.max_columns', None)\n",
    "file = 'SALESDATA.xls'"
   ]
  },
  {
   "cell_type": "code",
   "execution_count": 2,
   "id": "a331d4a3",
   "metadata": {},
   "outputs": [
    {
     "data": {
      "text/html": [
       "<div>\n",
       "<style scoped>\n",
       "    .dataframe tbody tr th:only-of-type {\n",
       "        vertical-align: middle;\n",
       "    }\n",
       "\n",
       "    .dataframe tbody tr th {\n",
       "        vertical-align: top;\n",
       "    }\n",
       "\n",
       "    .dataframe thead th {\n",
       "        text-align: right;\n",
       "    }\n",
       "</style>\n",
       "<table border=\"1\" class=\"dataframe\">\n",
       "  <thead>\n",
       "    <tr style=\"text-align: right;\">\n",
       "      <th></th>\n",
       "      <th>CustKey</th>\n",
       "      <th>DateKey</th>\n",
       "      <th>Discount Amount</th>\n",
       "      <th>Invoice Date</th>\n",
       "      <th>Invoice Number</th>\n",
       "      <th>Item Class</th>\n",
       "      <th>Item Number</th>\n",
       "      <th>Item</th>\n",
       "      <th>Line Number</th>\n",
       "      <th>List Price</th>\n",
       "      <th>Order Number</th>\n",
       "      <th>Promised Delivery Date</th>\n",
       "      <th>Sales Amount</th>\n",
       "      <th>Sales Amount Based on List Price</th>\n",
       "      <th>Sales Cost Amount</th>\n",
       "      <th>Sales Margin Amount</th>\n",
       "      <th>Sales Price</th>\n",
       "      <th>Sales Quantity</th>\n",
       "      <th>Sales Rep</th>\n",
       "      <th>U/M</th>\n",
       "    </tr>\n",
       "  </thead>\n",
       "  <tbody>\n",
       "    <tr>\n",
       "      <th>0</th>\n",
       "      <td>10000481</td>\n",
       "      <td>2017-04-30</td>\n",
       "      <td>-237.91</td>\n",
       "      <td>2017-04-30</td>\n",
       "      <td>100012</td>\n",
       "      <td>NaN</td>\n",
       "      <td>NaN</td>\n",
       "      <td>Urban Large Eggs</td>\n",
       "      <td>2000</td>\n",
       "      <td>0.00</td>\n",
       "      <td>200015</td>\n",
       "      <td>2017-04-30</td>\n",
       "      <td>237.91</td>\n",
       "      <td>0.00</td>\n",
       "      <td>0.0</td>\n",
       "      <td>237.91</td>\n",
       "      <td>237.910000</td>\n",
       "      <td>1</td>\n",
       "      <td>184</td>\n",
       "      <td>EA</td>\n",
       "    </tr>\n",
       "    <tr>\n",
       "      <th>1</th>\n",
       "      <td>10002220</td>\n",
       "      <td>2017-07-14</td>\n",
       "      <td>368.79</td>\n",
       "      <td>2017-07-14</td>\n",
       "      <td>100233</td>\n",
       "      <td>P01</td>\n",
       "      <td>20910</td>\n",
       "      <td>Moms Sliced Turkey</td>\n",
       "      <td>1000</td>\n",
       "      <td>824.96</td>\n",
       "      <td>200245</td>\n",
       "      <td>2017-07-14</td>\n",
       "      <td>456.17</td>\n",
       "      <td>824.96</td>\n",
       "      <td>0.0</td>\n",
       "      <td>456.17</td>\n",
       "      <td>456.170000</td>\n",
       "      <td>1</td>\n",
       "      <td>127</td>\n",
       "      <td>EA</td>\n",
       "    </tr>\n",
       "    <tr>\n",
       "      <th>2</th>\n",
       "      <td>10002220</td>\n",
       "      <td>2017-10-17</td>\n",
       "      <td>109.73</td>\n",
       "      <td>2017-10-17</td>\n",
       "      <td>116165</td>\n",
       "      <td>P01</td>\n",
       "      <td>38076</td>\n",
       "      <td>Cutting Edge Foot-Long Hot Dogs</td>\n",
       "      <td>1000</td>\n",
       "      <td>548.66</td>\n",
       "      <td>213157</td>\n",
       "      <td>2017-10-16</td>\n",
       "      <td>438.93</td>\n",
       "      <td>548.66</td>\n",
       "      <td>0.0</td>\n",
       "      <td>438.93</td>\n",
       "      <td>438.930000</td>\n",
       "      <td>1</td>\n",
       "      <td>127</td>\n",
       "      <td>EA</td>\n",
       "    </tr>\n",
       "    <tr>\n",
       "      <th>3</th>\n",
       "      <td>10002489</td>\n",
       "      <td>2017-06-03</td>\n",
       "      <td>-211.75</td>\n",
       "      <td>2017-06-03</td>\n",
       "      <td>100096</td>\n",
       "      <td>NaN</td>\n",
       "      <td>NaN</td>\n",
       "      <td>Kiwi Lox</td>\n",
       "      <td>1000</td>\n",
       "      <td>0.00</td>\n",
       "      <td>200107</td>\n",
       "      <td>2017-06-03</td>\n",
       "      <td>211.75</td>\n",
       "      <td>0.00</td>\n",
       "      <td>0.0</td>\n",
       "      <td>211.75</td>\n",
       "      <td>211.750000</td>\n",
       "      <td>1</td>\n",
       "      <td>160</td>\n",
       "      <td>EA</td>\n",
       "    </tr>\n",
       "    <tr>\n",
       "      <th>4</th>\n",
       "      <td>10004516</td>\n",
       "      <td>2017-05-27</td>\n",
       "      <td>96627.94</td>\n",
       "      <td>2017-05-27</td>\n",
       "      <td>103341</td>\n",
       "      <td>P01</td>\n",
       "      <td>60776</td>\n",
       "      <td>High Top Sweet Onion</td>\n",
       "      <td>1000</td>\n",
       "      <td>408.52</td>\n",
       "      <td>203785</td>\n",
       "      <td>2017-05-28</td>\n",
       "      <td>89248.66</td>\n",
       "      <td>185876.60</td>\n",
       "      <td>0.0</td>\n",
       "      <td>89248.66</td>\n",
       "      <td>196.150901</td>\n",
       "      <td>455</td>\n",
       "      <td>124</td>\n",
       "      <td>SE</td>\n",
       "    </tr>\n",
       "  </tbody>\n",
       "</table>\n",
       "</div>"
      ],
      "text/plain": [
       "    CustKey    DateKey  Discount Amount Invoice Date  Invoice Number  \\\n",
       "0  10000481 2017-04-30          -237.91   2017-04-30          100012   \n",
       "1  10002220 2017-07-14           368.79   2017-07-14          100233   \n",
       "2  10002220 2017-10-17           109.73   2017-10-17          116165   \n",
       "3  10002489 2017-06-03          -211.75   2017-06-03          100096   \n",
       "4  10004516 2017-05-27         96627.94   2017-05-27          103341   \n",
       "\n",
       "  Item Class Item Number                             Item  Line Number  \\\n",
       "0        NaN         NaN                 Urban Large Eggs         2000   \n",
       "1        P01       20910               Moms Sliced Turkey         1000   \n",
       "2        P01       38076  Cutting Edge Foot-Long Hot Dogs         1000   \n",
       "3        NaN         NaN                         Kiwi Lox         1000   \n",
       "4        P01       60776             High Top Sweet Onion         1000   \n",
       "\n",
       "   List Price  Order Number Promised Delivery Date  Sales Amount  \\\n",
       "0        0.00        200015             2017-04-30        237.91   \n",
       "1      824.96        200245             2017-07-14        456.17   \n",
       "2      548.66        213157             2017-10-16        438.93   \n",
       "3        0.00        200107             2017-06-03        211.75   \n",
       "4      408.52        203785             2017-05-28      89248.66   \n",
       "\n",
       "   Sales Amount Based on List Price  Sales Cost Amount  Sales Margin Amount  \\\n",
       "0                              0.00                0.0               237.91   \n",
       "1                            824.96                0.0               456.17   \n",
       "2                            548.66                0.0               438.93   \n",
       "3                              0.00                0.0               211.75   \n",
       "4                         185876.60                0.0             89248.66   \n",
       "\n",
       "   Sales Price  Sales Quantity  Sales Rep U/M  \n",
       "0   237.910000               1        184  EA  \n",
       "1   456.170000               1        127  EA  \n",
       "2   438.930000               1        127  EA  \n",
       "3   211.750000               1        160  EA  \n",
       "4   196.150901             455        124  SE  "
      ]
     },
     "execution_count": 2,
     "metadata": {},
     "output_type": "execute_result"
    }
   ],
   "source": [
    "df = pd.read_excel(file)\n",
    "df.head()"
   ]
  },
  {
   "cell_type": "markdown",
   "id": "8555f0b4",
   "metadata": {},
   "source": [
    "### Data cleaning"
   ]
  },
  {
   "cell_type": "code",
   "execution_count": 3,
   "id": "0c977172",
   "metadata": {},
   "outputs": [
    {
     "data": {
      "text/plain": [
       "(65282, 20)"
      ]
     },
     "execution_count": 3,
     "metadata": {},
     "output_type": "execute_result"
    }
   ],
   "source": [
    "df.shape"
   ]
  },
  {
   "cell_type": "code",
   "execution_count": 4,
   "id": "363a50f1",
   "metadata": {},
   "outputs": [
    {
     "data": {
      "text/plain": [
       "CustKey                                0\n",
       "DateKey                                0\n",
       "Discount Amount                        2\n",
       "Invoice Date                           0\n",
       "Invoice Number                         0\n",
       "Item Class                          8289\n",
       "Item Number                           41\n",
       "Item                                   0\n",
       "Line Number                            0\n",
       "List Price                             0\n",
       "Order Number                           0\n",
       "Promised Delivery Date                 0\n",
       "Sales Amount                           0\n",
       "Sales Amount Based on List Price       0\n",
       "Sales Cost Amount                      0\n",
       "Sales Margin Amount                    0\n",
       "Sales Price                            1\n",
       "Sales Quantity                         0\n",
       "Sales Rep                              0\n",
       "U/M                                    0\n",
       "dtype: int64"
      ]
     },
     "execution_count": 4,
     "metadata": {},
     "output_type": "execute_result"
    }
   ],
   "source": [
    "df.isna().sum()"
   ]
  },
  {
   "cell_type": "code",
   "execution_count": 5,
   "id": "53385191",
   "metadata": {},
   "outputs": [],
   "source": [
    "#discount amount have 2 null i am replacing with 0\n",
    "df['Discount Amount'].fillna(0, inplace=True)"
   ]
  },
  {
   "cell_type": "code",
   "execution_count": 6,
   "id": "5deaefa1",
   "metadata": {},
   "outputs": [],
   "source": [
    "#sales price have 1 null value i am replacing with 0\n",
    "df['Sales Price'].fillna(0, inplace=True)"
   ]
  },
  {
   "cell_type": "markdown",
   "id": "3d9986af",
   "metadata": {},
   "source": [
    "'Invoice Number', 'DateKey', 'Order Number', 'Item Class', 'Item Number', 'Line Number', 'Sales Rep', 'U/M', 'Promised Delivery Date' these columns are unnecessary for my requirements"
   ]
  },
  {
   "cell_type": "code",
   "execution_count": 7,
   "id": "951222ac",
   "metadata": {},
   "outputs": [],
   "source": [
    "df.drop(columns=['Invoice Number', 'DateKey', 'Order Number', 'Item Class', 'Item Number', 'Line Number', 'Sales Rep', 'U/M', 'Promised Delivery Date'], inplace=True, axis=1)\n",
    "df = df[[\n",
    "    'CustKey', 'Invoice Date', 'Item', 'Discount Amount',\n",
    "    'Sales Quantity', 'Sales Amount', 'Sales Cost Amount', 'Sales Margin Amount', 'Sales Price',\n",
    "    'List Price', 'Sales Amount Based on List Price'\n",
    "]]"
   ]
  },
  {
   "cell_type": "markdown",
   "id": "3e13be96",
   "metadata": {},
   "source": [
    "converting date to year month and date is not required"
   ]
  },
  {
   "cell_type": "code",
   "execution_count": 8,
   "id": "ec1e72e2",
   "metadata": {},
   "outputs": [],
   "source": [
    "#creating year and month column\n",
    "df['Year']=0\n",
    "df['Month']=0"
   ]
  },
  {
   "cell_type": "code",
   "execution_count": 9,
   "id": "97e83ae3",
   "metadata": {},
   "outputs": [],
   "source": [
    "for i in range(len(df)):\n",
    "    df.iloc[i, 11] = int(str(df.iloc[i, 1]).split('-')[0])\n",
    "    df.iloc[i, 12] = int(str(df.iloc[i, 1]).split('-')[1])\n",
    "df.drop('Invoice Date', inplace=True, axis=1)"
   ]
  },
  {
   "cell_type": "code",
   "execution_count": 10,
   "id": "f5b1836d",
   "metadata": {},
   "outputs": [],
   "source": [
    "# months = {\n",
    "#     1:'Jan', 2:'Feb', 3:'Mar', 4:'Apr', 5:'May', 6:'Jun', 7:'Jul', 8:'Aug', 9:'Sep', 10:'Oct', 11:'Nov', 12:'Dec'\n",
    "# }\n",
    "# df['Month']=df['Month'].map(months)"
   ]
  },
  {
   "cell_type": "code",
   "execution_count": 11,
   "id": "4d7a7b0e",
   "metadata": {},
   "outputs": [
    {
     "data": {
      "text/plain": [
       "CustKey                               int64\n",
       "Item                                 object\n",
       "Discount Amount                     float64\n",
       "Sales Quantity                        int64\n",
       "Sales Amount                        float64\n",
       "Sales Cost Amount                   float64\n",
       "Sales Margin Amount                 float64\n",
       "Sales Price                         float64\n",
       "List Price                          float64\n",
       "Sales Amount Based on List Price    float64\n",
       "Year                                  int64\n",
       "Month                                 int64\n",
       "dtype: object"
      ]
     },
     "execution_count": 11,
     "metadata": {},
     "output_type": "execute_result"
    }
   ],
   "source": [
    "df.dtypes"
   ]
  },
  {
   "cell_type": "code",
   "execution_count": 12,
   "id": "98431890",
   "metadata": {},
   "outputs": [
    {
     "data": {
      "text/html": [
       "<div>\n",
       "<style scoped>\n",
       "    .dataframe tbody tr th:only-of-type {\n",
       "        vertical-align: middle;\n",
       "    }\n",
       "\n",
       "    .dataframe tbody tr th {\n",
       "        vertical-align: top;\n",
       "    }\n",
       "\n",
       "    .dataframe thead th {\n",
       "        text-align: right;\n",
       "    }\n",
       "</style>\n",
       "<table border=\"1\" class=\"dataframe\">\n",
       "  <thead>\n",
       "    <tr style=\"text-align: right;\">\n",
       "      <th></th>\n",
       "      <th>CustKey</th>\n",
       "      <th>Item</th>\n",
       "      <th>Discount Amount</th>\n",
       "      <th>Sales Quantity</th>\n",
       "      <th>Sales Amount</th>\n",
       "      <th>Sales Cost Amount</th>\n",
       "      <th>Sales Margin Amount</th>\n",
       "      <th>Sales Price</th>\n",
       "      <th>List Price</th>\n",
       "      <th>Sales Amount Based on List Price</th>\n",
       "      <th>Year</th>\n",
       "      <th>Month</th>\n",
       "    </tr>\n",
       "  </thead>\n",
       "  <tbody>\n",
       "    <tr>\n",
       "      <th>65277</th>\n",
       "      <td>10017638</td>\n",
       "      <td>High Top Oranges</td>\n",
       "      <td>505.78</td>\n",
       "      <td>9</td>\n",
       "      <td>569.90</td>\n",
       "      <td>239.95</td>\n",
       "      <td>329.95</td>\n",
       "      <td>63.322222</td>\n",
       "      <td>119.52</td>\n",
       "      <td>1075.68</td>\n",
       "      <td>2018</td>\n",
       "      <td>3</td>\n",
       "    </tr>\n",
       "    <tr>\n",
       "      <th>65278</th>\n",
       "      <td>10017638</td>\n",
       "      <td>Landslide White Sugar</td>\n",
       "      <td>410.75</td>\n",
       "      <td>2</td>\n",
       "      <td>462.81</td>\n",
       "      <td>423.55</td>\n",
       "      <td>39.26</td>\n",
       "      <td>231.405000</td>\n",
       "      <td>436.78</td>\n",
       "      <td>873.56</td>\n",
       "      <td>2018</td>\n",
       "      <td>3</td>\n",
       "    </tr>\n",
       "    <tr>\n",
       "      <th>65279</th>\n",
       "      <td>10017638</td>\n",
       "      <td>Moms Potato Salad</td>\n",
       "      <td>876.16</td>\n",
       "      <td>8</td>\n",
       "      <td>987.20</td>\n",
       "      <td>574.00</td>\n",
       "      <td>413.20</td>\n",
       "      <td>123.400000</td>\n",
       "      <td>232.92</td>\n",
       "      <td>1863.36</td>\n",
       "      <td>2018</td>\n",
       "      <td>3</td>\n",
       "    </tr>\n",
       "    <tr>\n",
       "      <th>65280</th>\n",
       "      <td>10017638</td>\n",
       "      <td>Better Fancy Canned Sardines</td>\n",
       "      <td>24226.77</td>\n",
       "      <td>36</td>\n",
       "      <td>27297.51</td>\n",
       "      <td>16188.90</td>\n",
       "      <td>11108.61</td>\n",
       "      <td>758.264167</td>\n",
       "      <td>1431.23</td>\n",
       "      <td>51524.28</td>\n",
       "      <td>2018</td>\n",
       "      <td>3</td>\n",
       "    </tr>\n",
       "    <tr>\n",
       "      <th>65281</th>\n",
       "      <td>10017638</td>\n",
       "      <td>Imagine Popsicles</td>\n",
       "      <td>24479.26</td>\n",
       "      <td>48</td>\n",
       "      <td>27582.02</td>\n",
       "      <td>14234.22</td>\n",
       "      <td>13347.80</td>\n",
       "      <td>574.625417</td>\n",
       "      <td>1084.61</td>\n",
       "      <td>52061.28</td>\n",
       "      <td>2018</td>\n",
       "      <td>3</td>\n",
       "    </tr>\n",
       "  </tbody>\n",
       "</table>\n",
       "</div>"
      ],
      "text/plain": [
       "        CustKey                          Item  Discount Amount  \\\n",
       "65277  10017638              High Top Oranges           505.78   \n",
       "65278  10017638         Landslide White Sugar           410.75   \n",
       "65279  10017638             Moms Potato Salad           876.16   \n",
       "65280  10017638  Better Fancy Canned Sardines         24226.77   \n",
       "65281  10017638             Imagine Popsicles         24479.26   \n",
       "\n",
       "       Sales Quantity  Sales Amount  Sales Cost Amount  Sales Margin Amount  \\\n",
       "65277               9        569.90             239.95               329.95   \n",
       "65278               2        462.81             423.55                39.26   \n",
       "65279               8        987.20             574.00               413.20   \n",
       "65280              36      27297.51           16188.90             11108.61   \n",
       "65281              48      27582.02           14234.22             13347.80   \n",
       "\n",
       "       Sales Price  List Price  Sales Amount Based on List Price  Year  Month  \n",
       "65277    63.322222      119.52                           1075.68  2018      3  \n",
       "65278   231.405000      436.78                            873.56  2018      3  \n",
       "65279   123.400000      232.92                           1863.36  2018      3  \n",
       "65280   758.264167     1431.23                          51524.28  2018      3  \n",
       "65281   574.625417     1084.61                          52061.28  2018      3  "
      ]
     },
     "execution_count": 12,
     "metadata": {},
     "output_type": "execute_result"
    }
   ],
   "source": [
    "df.tail()"
   ]
  },
  {
   "cell_type": "markdown",
   "id": "dfb32564",
   "metadata": {},
   "source": [
    "##### Here,\n",
    "    1. Sales price without discount per piece is List Price\n",
    "    2. Total sales price without discount is List Price * Sales Quantity = Sales Amount Based on List Price\n",
    "    3. Actual sales price per piece is Sales Price\n",
    "    4. Actual total sales price is Sales Price * Sales Quantity = Sales Amount\n",
    "    5. Total discount is Discount Amount\n",
    "    6. Total cost of company during selling a product is Sales Cost Amount\n",
    "    7. Total income on a product is Sales Margin Amount"
   ]
  },
  {
   "cell_type": "code",
   "execution_count": 13,
   "id": "7639879d",
   "metadata": {},
   "outputs": [],
   "source": [
    "df.to_csv('data.csv', header=True, index=None)"
   ]
  },
  {
   "cell_type": "code",
   "execution_count": 14,
   "id": "e798625e",
   "metadata": {},
   "outputs": [
    {
     "data": {
      "application/vnd.jupyter.widget-view+json": {
       "model_id": "f5f4a7da239f4c26bfc5d169d308756d",
       "version_major": 2,
       "version_minor": 0
      },
      "text/plain": [
       "Summarize dataset:   0%|          | 0/5 [00:00<?, ?it/s]"
      ]
     },
     "metadata": {},
     "output_type": "display_data"
    },
    {
     "data": {
      "application/vnd.jupyter.widget-view+json": {
       "model_id": "e3bd4b32b1b14fcdaad5aecf97f53fee",
       "version_major": 2,
       "version_minor": 0
      },
      "text/plain": [
       "Generate report structure:   0%|          | 0/1 [00:00<?, ?it/s]"
      ]
     },
     "metadata": {},
     "output_type": "display_data"
    },
    {
     "data": {
      "application/vnd.jupyter.widget-view+json": {
       "model_id": "1841a081613e4095a98d3070c92b050f",
       "version_major": 2,
       "version_minor": 0
      },
      "text/plain": [
       "Render HTML:   0%|          | 0/1 [00:00<?, ?it/s]"
      ]
     },
     "metadata": {},
     "output_type": "display_data"
    },
    {
     "data": {
      "application/vnd.jupyter.widget-view+json": {
       "model_id": "d222e4e666564371b39ffc8cc646f147",
       "version_major": 2,
       "version_minor": 0
      },
      "text/plain": [
       "Export report to file:   0%|          | 0/1 [00:00<?, ?it/s]"
      ]
     },
     "metadata": {},
     "output_type": "display_data"
    }
   ],
   "source": [
    "from ydata_profiling import ProfileReport\n",
    "pf = ProfileReport(df)\n",
    "pf.to_file('data_report.html')"
   ]
  }
 ],
 "metadata": {
  "kernelspec": {
   "display_name": "Python 3 (ipykernel)",
   "language": "python",
   "name": "python3"
  },
  "language_info": {
   "codemirror_mode": {
    "name": "ipython",
    "version": 3
   },
   "file_extension": ".py",
   "mimetype": "text/x-python",
   "name": "python",
   "nbconvert_exporter": "python",
   "pygments_lexer": "ipython3",
   "version": "3.9.16"
  }
 },
 "nbformat": 4,
 "nbformat_minor": 5
}
